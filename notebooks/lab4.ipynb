{
 "cells": [
  {
   "cell_type": "code",
   "execution_count": 90,
   "metadata": {},
   "outputs": [],
   "source": [
    "from sqlite3 import connect\n",
    "import sys\n",
    "from os import curdir, path"
   ]
  },
  {
   "cell_type": "code",
   "execution_count": 91,
   "metadata": {},
   "outputs": [],
   "source": [
    "modules_dir = path.join(curdir, '..', 'modules')\n",
    "sys.path.append(modules_dir)"
   ]
  },
  {
   "cell_type": "code",
   "execution_count": 92,
   "metadata": {},
   "outputs": [],
   "source": [
    "from db import read_pages"
   ]
  },
  {
   "cell_type": "code",
   "execution_count": 93,
   "metadata": {},
   "outputs": [],
   "source": [
    "db = connect(path.join(curdir, '..', 'articles.sqlite'))"
   ]
  },
  {
   "cell_type": "code",
   "execution_count": 94,
   "metadata": {},
   "outputs": [],
   "source": [
    "pages = db.execute(\"SELECT * FROM {}\".format('articles')).fetchall()"
   ]
  },
  {
   "cell_type": "code",
   "execution_count": 95,
   "metadata": {},
   "outputs": [
    {
     "data": {
      "text/plain": [
       "('https://vc.ru/marketing/63026-12-sovetov-kak-zarabotat-bolshe-podpischikov-v-instagram',\n",
       " '12 советов, как заработать больше подписчиков в Instagram — Маркетинг на vc.ru',\n",
       " '1. Продумайте контент-стратегию!')"
      ]
     },
     "execution_count": 95,
     "metadata": {},
     "output_type": "execute_result"
    }
   ],
   "source": [
    "pages[0]\n"
   ]
  },
  {
   "cell_type": "code",
   "execution_count": 96,
   "metadata": {},
   "outputs": [],
   "source": [
    "titles = list(map(lambda x: x[1], pages))\n",
    "descriptions = list(map(lambda x: x[2], pages))"
   ]
  },
  {
   "cell_type": "code",
   "execution_count": 97,
   "metadata": {},
   "outputs": [
    {
     "name": "stdout",
     "output_type": "stream",
     "text": [
      "12 советов, как заработать больше подписчиков в Instagram — Маркетинг на vc.ru\n",
      "1. Продумайте контент-стратегию!\n"
     ]
    }
   ],
   "source": [
    "print(titles[0])\n",
    "print(descriptions[0])"
   ]
  },
  {
   "cell_type": "code",
   "execution_count": 98,
   "metadata": {},
   "outputs": [],
   "source": [
    "from sklearn.feature_extraction.text import CountVectorizer\n",
    "from scipy.sparse import csc_matrix"
   ]
  },
  {
   "cell_type": "code",
   "execution_count": 105,
   "metadata": {},
   "outputs": [],
   "source": [
    "cv = CountVectorizer()"
   ]
  },
  {
   "cell_type": "code",
   "execution_count": 106,
   "metadata": {},
   "outputs": [],
   "source": [
    "data_matrix = csc_matrix(cv.fit_transform(titles + descriptions))"
   ]
  },
  {
   "cell_type": "code",
   "execution_count": 107,
   "metadata": {},
   "outputs": [
    {
     "data": {
      "text/plain": [
       "<240x1283 sparse matrix of type '<class 'numpy.int64'>'\n",
       "\twith 4149 stored elements in Compressed Sparse Column format>"
      ]
     },
     "execution_count": 107,
     "metadata": {},
     "output_type": "execute_result"
    }
   ],
   "source": [
    "data_matrix"
   ]
  },
  {
   "cell_type": "code",
   "execution_count": 115,
   "metadata": {},
   "outputs": [],
   "source": [
    "tokens = cv.get_feature_names()"
   ]
  },
  {
   "cell_type": "code",
   "execution_count": 111,
   "metadata": {},
   "outputs": [],
   "source": [
    "import numpy as np"
   ]
  },
  {
   "cell_type": "code",
   "execution_count": 146,
   "metadata": {},
   "outputs": [],
   "source": [
    "eps = 10e-8"
   ]
  },
  {
   "cell_type": "code",
   "execution_count": 147,
   "metadata": {},
   "outputs": [],
   "source": [
    "class Embedding:\n",
    "    def __init__(self, matrix, epsilon=eps):\n",
    "        self.data = matrix\n",
    "        self.sigma = np.zeros(matrix.shape)\n",
    "        self.sigma.fill(epsilon)\n",
    "    @staticmethod\n",
    "    def create(emb_size, vocab_size, rng = 0.001):\n",
    "        rnd = np.random.randn(emb_size, vocab_size) * rng\n",
    "        return Embedding(rnd)\n"
   ]
  },
  {
   "cell_type": "code",
   "execution_count": 148,
   "metadata": {},
   "outputs": [],
   "source": [
    "emb = Embedding.create(256, len(tokens))"
   ]
  },
  {
   "cell_type": "code",
   "execution_count": 149,
   "metadata": {},
   "outputs": [
    {
     "name": "stdout",
     "output_type": "stream",
     "text": [
      "(256, 1283)\n",
      "(256, 1283)\n"
     ]
    }
   ],
   "source": [
    "print(emb.sigma.shape)\n",
    "print(emb.data.shape)"
   ]
  },
  {
   "cell_type": "code",
   "execution_count": 150,
   "metadata": {},
   "outputs": [],
   "source": [
    "def backward_hinge(u, v, v_hat, gamma):\n",
    "    loss = gamma - np.dot(u, v) + np.dot(u, v_hat)\n",
    "    if loss > 0:\n",
    "        return (v_hat - v, -u, u)"
   ]
  },
  {
   "cell_type": "code",
   "execution_count": 195,
   "metadata": {},
   "outputs": [],
   "source": [
    "def update(embedding, idx, max_indicies, delta, nu):\n",
    "    p = emb.data[:, idx][:, max_indicies]\n",
    "    print(p)\n",
    "    g = emp.sigma[:, idx][:, max_indicies]\n",
    "    emb.sigma[:, idx][:, max_indicies] += delta**2\n",
    "    emp.data[:, idx][:, max_indicies] -= delta * nu / (np.sqrt(g) + eps)"
   ]
  },
  {
   "cell_type": "code",
   "execution_count": 194,
   "metadata": {},
   "outputs": [],
   "source": [
    "def aggregate(matrix, idx):\n",
    "    res = matrix[:, idx]\n",
    "    maximum = np.max(res, axis=1)\n",
    "    max_indicies = np.argmax(res, axis=1)\n",
    "    return maximum, max_indicies"
   ]
  },
  {
   "cell_type": "code",
   "execution_count": null,
   "metadata": {},
   "outputs": [],
   "source": [
    "def recall_at_k(emb, data, k = 10):\n",
    "    n_test = len(data)\n",
    "    \n",
    "    descr_emb = [emb(data[i][2]) for i in range(n_test)]\n",
    "    \n",
    "    # я так понял, что нужно посчитать сумму bool(i in top_k)\n",
    "#     recall = count(1:n_test) do i\n",
    "#         title_emb = emb(data[i][1])\n",
    "#         i in top_k(vec(title_emb' * descr_emb), k)\n",
    "#     end\n",
    "    \n",
    "    return recall / n_test"
   ]
  },
  {
   "cell_type": "code",
   "execution_count": null,
   "metadata": {},
   "outputs": [],
   "source": [
    "def train2(emb, idx, nu):\n",
    "        "
   ]
  },
  {
   "cell_type": "code",
   "execution_count": null,
   "metadata": {},
   "outputs": [],
   "source": [
    "def train1(emb, data, nu):\n",
    "    first = np.random.permutation(len(data))\n",
    "    second = np.roll(first, 1)\n",
    "    for (f, s) in zip(first, second):\n",
    "        u, v = data[f]\n",
    "        np.random.randint(2) ? np.setdiff1d(v, u) : np.setdiff1d(u, v)\n",
    "        train2(emb, (u, v, data[s][2]), nu)"
   ]
  },
  {
   "cell_type": "code",
   "execution_count": null,
   "metadata": {},
   "outputs": [],
   "source": [
    "def train(emb, train_data, test_data, n_epochs, nu):\n",
    "    for epoch in range(n_epochs):\n",
    "        t = train1(emb, train_data, nu)\n",
    "        recall = recall_at_k(emb, test_data)\n",
    "        print(\"Epoch {} ({}): recall = {}\\n\".format(epoch, t, recall))"
   ]
  },
  {
   "cell_type": "code",
   "execution_count": 216,
   "metadata": {},
   "outputs": [
    {
     "name": "stdout",
     "output_type": "stream",
     "text": [
      "0\n"
     ]
    }
   ],
   "source": []
  },
  {
   "cell_type": "code",
   "execution_count": null,
   "metadata": {},
   "outputs": [],
   "source": []
  },
  {
   "cell_type": "code",
   "execution_count": null,
   "metadata": {},
   "outputs": [],
   "source": []
  }
 ],
 "metadata": {
  "kernelspec": {
   "display_name": "Python 3",
   "language": "python",
   "name": "python3"
  },
  "language_info": {
   "codemirror_mode": {
    "name": "ipython",
    "version": 3
   },
   "file_extension": ".py",
   "mimetype": "text/x-python",
   "name": "python",
   "nbconvert_exporter": "python",
   "pygments_lexer": "ipython3",
   "version": "3.6.5"
  }
 },
 "nbformat": 4,
 "nbformat_minor": 1
}
