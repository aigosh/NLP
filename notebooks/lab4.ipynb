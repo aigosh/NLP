{
 "cells": [
  {
   "cell_type": "code",
   "execution_count": 1,
   "metadata": {},
   "outputs": [],
   "source": [
    "from sqlite3 import connect\n",
    "import sys\n",
    "from os import curdir, path"
   ]
  },
  {
   "cell_type": "code",
   "execution_count": 2,
   "metadata": {},
   "outputs": [],
   "source": [
    "modules_dir = path.join(curdir, '..', 'modules')\n",
    "sys.path.append(modules_dir)"
   ]
  },
  {
   "cell_type": "code",
   "execution_count": 3,
   "metadata": {},
   "outputs": [],
   "source": [
    "from db import read_pages"
   ]
  },
  {
   "cell_type": "code",
   "execution_count": 4,
   "metadata": {},
   "outputs": [],
   "source": [
    "db = connect(path.join(curdir, '..', 'articles.sqlite'))"
   ]
  },
  {
   "cell_type": "code",
   "execution_count": 5,
   "metadata": {},
   "outputs": [],
   "source": [
    "pages = db.execute(\"SELECT * FROM {}\".format('articles')).fetchall()"
   ]
  },
  {
   "cell_type": "code",
   "execution_count": 6,
   "metadata": {},
   "outputs": [
    {
     "data": {
      "text/plain": [
       "('https://vc.ru/marketing/63026-12-sovetov-kak-zarabotat-bolshe-podpischikov-v-instagram',\n",
       " '12 советов, как заработать больше подписчиков в Instagram — Маркетинг на vc.ru',\n",
       " '1. Продумайте контент-стратегию!')"
      ]
     },
     "execution_count": 6,
     "metadata": {},
     "output_type": "execute_result"
    }
   ],
   "source": [
    "pages[0]\n"
   ]
  },
  {
   "cell_type": "code",
   "execution_count": 7,
   "metadata": {},
   "outputs": [],
   "source": [
    "titles = list(map(lambda x: x[1], pages))\n",
    "descriptions = list(map(lambda x: x[2], pages))"
   ]
  },
  {
   "cell_type": "code",
   "execution_count": 8,
   "metadata": {},
   "outputs": [
    {
     "name": "stdout",
     "output_type": "stream",
     "text": [
      "12 советов, как заработать больше подписчиков в Instagram — Маркетинг на vc.ru\n",
      "1. Продумайте контент-стратегию!\n"
     ]
    }
   ],
   "source": [
    "print(titles[0])\n",
    "print(descriptions[0])"
   ]
  },
  {
   "cell_type": "code",
   "execution_count": 9,
   "metadata": {},
   "outputs": [],
   "source": [
    "from sklearn.feature_extraction.text import CountVectorizer\n",
    "from scipy.sparse import csc_matrix"
   ]
  },
  {
   "cell_type": "code",
   "execution_count": 10,
   "metadata": {},
   "outputs": [],
   "source": [
    "cv = CountVectorizer()"
   ]
  },
  {
   "cell_type": "code",
   "execution_count": 11,
   "metadata": {},
   "outputs": [],
   "source": [
    "data_matrix = csc_matrix(cv.fit_transform(titles + descriptions))"
   ]
  },
  {
   "cell_type": "code",
   "execution_count": 12,
   "metadata": {},
   "outputs": [
    {
     "data": {
      "text/plain": [
       "<240x1283 sparse matrix of type '<class 'numpy.int64'>'\n",
       "\twith 4149 stored elements in Compressed Sparse Column format>"
      ]
     },
     "execution_count": 12,
     "metadata": {},
     "output_type": "execute_result"
    }
   ],
   "source": [
    "data_matrix"
   ]
  },
  {
   "cell_type": "code",
   "execution_count": 13,
   "metadata": {},
   "outputs": [],
   "source": [
    "tokens = cv.get_feature_names()"
   ]
  },
  {
   "cell_type": "code",
   "execution_count": 14,
   "metadata": {},
   "outputs": [],
   "source": [
    "import numpy as np"
   ]
  },
  {
   "cell_type": "code",
   "execution_count": 15,
   "metadata": {},
   "outputs": [],
   "source": [
    "eps = 10e-8"
   ]
  },
  {
   "cell_type": "code",
   "execution_count": 16,
   "metadata": {},
   "outputs": [],
   "source": [
    "class Embedding:\n",
    "    def __init__(self, matrix, epsilon=eps):\n",
    "        self.data = matrix\n",
    "        self.sigma = np.zeros(matrix.shape)\n",
    "        self.sigma.fill(epsilon)\n",
    "    @staticmethod\n",
    "    def create(emb_size, vocab_size, rng = 0.001):\n",
    "        rnd = np.random.randn(emb_size, vocab_size) * rng\n",
    "        return Embedding(rnd)\n"
   ]
  },
  {
   "cell_type": "code",
   "execution_count": 17,
   "metadata": {},
   "outputs": [],
   "source": [
    "emb = Embedding.create(256, len(tokens))"
   ]
  },
  {
   "cell_type": "code",
   "execution_count": 18,
   "metadata": {},
   "outputs": [
    {
     "name": "stdout",
     "output_type": "stream",
     "text": [
      "(256, 1283)\n",
      "(256, 1283)\n"
     ]
    }
   ],
   "source": [
    "print(emb.sigma.shape)\n",
    "print(emb.data.shape)"
   ]
  },
  {
   "cell_type": "code",
   "execution_count": 19,
   "metadata": {},
   "outputs": [],
   "source": [
    "def backward_hinge(u, v, v_hat, gamma):\n",
    "    loss = gamma - np.dot(u, v) + np.dot(u, v_hat)\n",
    "    if loss > 0:\n",
    "        return (v_hat - v, -u, u)"
   ]
  },
  {
   "cell_type": "code",
   "execution_count": 20,
   "metadata": {},
   "outputs": [],
   "source": [
    "# def update(embedding, idx, max_indicies, delta, nu):\n",
    "#     p = emb.data[:, idx][:, max_indicies]\n",
    "#     print(p)\n",
    "#     g = emp.sigma[:, idx][:, max_indicies]\n",
    "#     emb.sigma[:, idx][:, max_indicies] += delta**2\n",
    "#     emp.data[:, idx][:, max_indicies] -= delta * nu / (np.sqrt(g) + eps)\n",
    "def update(w, h, g_t, mask, lr=0.001, epsilon=1e-7):\n",
    "    h_new = h + g_t * g_t\n",
    "    w_new = w - lr * g_t / (np.sqrt(h_new) + epsilon)\n",
    "    w_new = np.where(mask, w_new, w)\n",
    "    return w_new, h_new"
   ]
  },
  {
   "cell_type": "code",
   "execution_count": 21,
   "metadata": {},
   "outputs": [],
   "source": [
    "def agg(w, x):\n",
    "    res = np.multiply(w, x.todense().transpose()).max(axis=0)\n",
    "    mask = (np.vstack([res for i in range(w.shape[0])]) == w)\n",
    "    #print(mask.shape)\n",
    "    return res, mask # mask show values to update\n"
   ]
  },
  {
   "cell_type": "code",
   "execution_count": 22,
   "metadata": {},
   "outputs": [],
   "source": [
    "def recall_at_k(emb, data, k = 10):\n",
    "    n_test = len(data)\n",
    "    \n",
    "    descr_emb = [emb(data[i][2]) for i in range(n_test)]\n",
    "    \n",
    "    recall = []\n",
    "    \n",
    "    for i in range(n_test):\n",
    "        title_emb = emb(data[i][1])\n",
    "        recall.push(i in top_k(np.transpose(title_emb) * descr_emb, k))\n",
    "    \n",
    "    return np.count_nonzero(recall) / n_test"
   ]
  },
  {
   "cell_type": "code",
   "execution_count": null,
   "metadata": {},
   "outputs": [],
   "source": [
    "def train2(emb: Embedding, idx, nu):\n",
    "    embs = emb.sigma[idx]\n",
    "    delta_s = backward_hinge(*embs)\n",
    "    if delta_sis None:\n",
    "        return nothing\n",
    "    \n",
    "    for i, delta in zip(idx, delta_s)\n",
    "        update!(emb, i, delta, nu)\n"
   ]
  },
  {
   "cell_type": "code",
   "execution_count": null,
   "metadata": {},
   "outputs": [],
   "source": [
    "def train1(emb, data, nu):\n",
    "    first = np.random.permutation(len(data))\n",
    "    second = np.roll(first, 1)\n",
    "    for (f, s) in zip(first, second):\n",
    "        u, v = data[f]\n",
    "        np.random.randint(2) ? np.setdiff1d(v, u) : np.setdiff1d(u, v)\n",
    "        train2(emb, (u, v, data[s][2]), nu)"
   ]
  },
  {
   "cell_type": "code",
   "execution_count": null,
   "metadata": {},
   "outputs": [],
   "source": [
    "def train(emb, train_data, test_data, n_epochs, nu):\n",
    "    for epoch in range(n_epochs):\n",
    "        t = train1(emb, train_data, nu)\n",
    "        recall = recall_at_k(emb, test_data)\n",
    "        print(\"Epoch {} ({}): recall = {}\\n\".format(epoch, t, recall))"
   ]
  },
  {
   "cell_type": "code",
   "execution_count": 216,
   "metadata": {},
   "outputs": [
    {
     "name": "stdout",
     "output_type": "stream",
     "text": [
      "0\n"
     ]
    }
   ],
   "source": []
  },
  {
   "cell_type": "code",
   "execution_count": null,
   "metadata": {},
   "outputs": [],
   "source": []
  },
  {
   "cell_type": "code",
   "execution_count": null,
   "metadata": {},
   "outputs": [],
   "source": []
  }
 ],
 "metadata": {
  "kernelspec": {
   "display_name": "Python 3",
   "language": "python",
   "name": "python3"
  },
  "language_info": {
   "codemirror_mode": {
    "name": "ipython",
    "version": 3
   },
   "file_extension": ".py",
   "mimetype": "text/x-python",
   "name": "python",
   "nbconvert_exporter": "python",
   "pygments_lexer": "ipython3",
   "version": "3.6.5"
  }
 },
 "nbformat": 4,
 "nbformat_minor": 1
}
