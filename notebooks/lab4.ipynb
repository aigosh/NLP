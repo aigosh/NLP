{
 "cells": [
  {
   "cell_type": "code",
   "execution_count": 1,
   "metadata": {},
   "outputs": [],
   "source": [
    "from sqlite3 import connect\n",
    "import sys\n",
    "from os import curdir, path"
   ]
  },
  {
   "cell_type": "code",
   "execution_count": 2,
   "metadata": {},
   "outputs": [],
   "source": [
    "modules_dir = path.join(curdir, '..', 'modules')\n",
    "sys.path.append(modules_dir)"
   ]
  },
  {
   "cell_type": "code",
   "execution_count": 134,
   "metadata": {},
   "outputs": [],
   "source": [
    "from db import read_pages\n",
    "from heapq import nlargest"
   ]
  },
  {
   "cell_type": "code",
   "execution_count": 4,
   "metadata": {},
   "outputs": [],
   "source": [
    "db = connect(path.join(curdir, '..', 'articles.sqlite'))"
   ]
  },
  {
   "cell_type": "code",
   "execution_count": 5,
   "metadata": {},
   "outputs": [],
   "source": [
    "pages = db.execute(\"SELECT * FROM {}\".format('articles')).fetchall()"
   ]
  },
  {
   "cell_type": "code",
   "execution_count": 6,
   "metadata": {},
   "outputs": [],
   "source": [
    "import pandas as pd"
   ]
  },
  {
   "cell_type": "code",
   "execution_count": 7,
   "metadata": {},
   "outputs": [],
   "source": [
    "# df = pd.DataFrame.from_records(pages, columns=['url', 'title', 'descr'])\n",
    "# df.to_csv('data.csv')\n"
   ]
  },
  {
   "cell_type": "code",
   "execution_count": 8,
   "metadata": {},
   "outputs": [],
   "source": [
    "titles = list(map(lambda x: x[1], pages))\n",
    "descriptions = list(map(lambda x: x[2], pages))"
   ]
  },
  {
   "cell_type": "code",
   "execution_count": 9,
   "metadata": {},
   "outputs": [
    {
     "name": "stdout",
     "output_type": "stream",
     "text": [
      "12 советов, как заработать больше подписчиков в Instagram — Маркетинг на vc.ru\n",
      "1. Продумайте контент-стратегию!\n"
     ]
    }
   ],
   "source": [
    "print(titles[0])\n",
    "print(descriptions[0])"
   ]
  },
  {
   "cell_type": "code",
   "execution_count": 10,
   "metadata": {},
   "outputs": [],
   "source": [
    "# from sklearn.model_selection import "
   ]
  },
  {
   "cell_type": "code",
   "execution_count": 11,
   "metadata": {},
   "outputs": [],
   "source": [
    "train_size = int(0.7 * len(titles))\n",
    "test_size = len(titles) - train_size\n",
    "data = list(zip(descriptions, titles))\n",
    "train_data, test_data  = data[:train_size], data[train_size + 1:]"
   ]
  },
  {
   "cell_type": "code",
   "execution_count": 12,
   "metadata": {},
   "outputs": [
    {
     "name": "stdout",
     "output_type": "stream",
     "text": [
      "('1. Продумайте контент-стратегию!', '12 советов, как заработать больше подписчиков в Instagram — Маркетинг на vc.ru') ('Сегодня расскажу несколько лайфхаков, которые можно использовать в CRM системе Bitrix24. Они помогут вам продавать больше, взять под контроль все каналы коммуникаций с клиентами, а также автоматизировать продажу с помощью триггеров и роботов.', 'Контроль рекламных каналов и автоматизация продаж — Маркетинг на vc.ru')\n"
     ]
    }
   ],
   "source": [
    "print(train_data[0], test_data[0])"
   ]
  },
  {
   "cell_type": "code",
   "execution_count": 13,
   "metadata": {},
   "outputs": [],
   "source": [
    "from sklearn.feature_extraction.text import CountVectorizer\n",
    "from scipy.sparse import csc_matrix"
   ]
  },
  {
   "cell_type": "code",
   "execution_count": 14,
   "metadata": {},
   "outputs": [],
   "source": [
    "cv = CountVectorizer()"
   ]
  },
  {
   "cell_type": "code",
   "execution_count": 15,
   "metadata": {},
   "outputs": [
    {
     "data": {
      "text/plain": [
       "CountVectorizer(analyzer='word', binary=False, decode_error='strict',\n",
       "        dtype=<class 'numpy.int64'>, encoding='utf-8', input='content',\n",
       "        lowercase=True, max_df=1.0, max_features=None, min_df=1,\n",
       "        ngram_range=(1, 1), preprocessor=None, stop_words=None,\n",
       "        strip_accents=None, token_pattern='(?u)\\\\b\\\\w\\\\w+\\\\b',\n",
       "        tokenizer=None, vocabulary=None)"
      ]
     },
     "execution_count": 15,
     "metadata": {},
     "output_type": "execute_result"
    }
   ],
   "source": [
    "cv.fit(titles + descriptions)"
   ]
  },
  {
   "cell_type": "code",
   "execution_count": 16,
   "metadata": {},
   "outputs": [],
   "source": [
    "# data = list(zip(csc_matrix(map(lambda x: , descriptions), csc_matrix(cv.transform(titles))))"
   ]
  },
  {
   "cell_type": "code",
   "execution_count": null,
   "metadata": {},
   "outputs": [],
   "source": []
  },
  {
   "cell_type": "code",
   "execution_count": null,
   "metadata": {},
   "outputs": [],
   "source": []
  },
  {
   "cell_type": "code",
   "execution_count": 17,
   "metadata": {},
   "outputs": [],
   "source": [
    "tokens = cv.get_feature_names()"
   ]
  },
  {
   "cell_type": "code",
   "execution_count": 18,
   "metadata": {},
   "outputs": [],
   "source": [
    "word2num = {i:indx for indx, i in enumerate(tokens)} "
   ]
  },
  {
   "cell_type": "code",
   "execution_count": 19,
   "metadata": {},
   "outputs": [],
   "source": [
    "def tokenize_(s):\n",
    "    a = []\n",
    "    for s_ in s.split(' '):\n",
    "        try:\n",
    "            a.append(word2num[s_])\n",
    "        except:\n",
    "            continue\n",
    "    return a"
   ]
  },
  {
   "cell_type": "code",
   "execution_count": null,
   "metadata": {},
   "outputs": [],
   "source": []
  },
  {
   "cell_type": "code",
   "execution_count": 20,
   "metadata": {},
   "outputs": [],
   "source": [
    "data = list(\n",
    "    zip(\n",
    "        map(lambda x: tokenize_(x), descriptions),\n",
    "        map(lambda x: tokenize_(x), titles),\n",
    "    )\n",
    ")"
   ]
  },
  {
   "cell_type": "code",
   "execution_count": 21,
   "metadata": {},
   "outputs": [],
   "source": [
    "data = list(filter(lambda x: len(x[0]) and len(x[1]), data))"
   ]
  },
  {
   "cell_type": "code",
   "execution_count": 22,
   "metadata": {},
   "outputs": [],
   "source": [
    "train_size = int(0.7 * len(data))\n",
    "test_size = len(data) - train_size\n",
    "train_data, test_data  = data[:train_size], data[train_size + 1:]"
   ]
  },
  {
   "cell_type": "code",
   "execution_count": 23,
   "metadata": {},
   "outputs": [
    {
     "data": {
      "text/plain": [
       "([325,\n",
       "  594,\n",
       "  1271,\n",
       "  1107,\n",
       "  587,\n",
       "  980,\n",
       "  577,\n",
       "  611,\n",
       "  587,\n",
       "  662,\n",
       "  445,\n",
       "  146,\n",
       "  364,\n",
       "  634,\n",
       "  1241,\n",
       "  282,\n",
       "  453,\n",
       "  644,\n",
       "  504,\n",
       "  672],\n",
       " [1242, 291, 649, 587])"
      ]
     },
     "execution_count": 23,
     "metadata": {},
     "output_type": "execute_result"
    }
   ],
   "source": [
    "train_data[0]"
   ]
  },
  {
   "cell_type": "code",
   "execution_count": 24,
   "metadata": {},
   "outputs": [],
   "source": [
    "import numpy as np"
   ]
  },
  {
   "cell_type": "code",
   "execution_count": 25,
   "metadata": {},
   "outputs": [],
   "source": [
    "eps = 1.0e-8"
   ]
  },
  {
   "cell_type": "code",
   "execution_count": 26,
   "metadata": {},
   "outputs": [],
   "source": [
    "class Embedding:\n",
    "    def __init__(self, matrix, epsilon=eps):\n",
    "        self.data = matrix\n",
    "        self.sigma = np.zeros(matrix.shape)\n",
    "        self.sigma.fill(epsilon)\n",
    "    @staticmethod\n",
    "    def create(emb_size, vocab_size, rng = 0.001):\n",
    "        rnd = np.random.randn(emb_size, vocab_size) * rng\n",
    "        return Embedding(rnd)\n"
   ]
  },
  {
   "cell_type": "code",
   "execution_count": 27,
   "metadata": {},
   "outputs": [],
   "source": [
    "emb = Embedding.create(256, len(tokens))"
   ]
  },
  {
   "cell_type": "code",
   "execution_count": 28,
   "metadata": {},
   "outputs": [
    {
     "name": "stdout",
     "output_type": "stream",
     "text": [
      "(256, 1283)\n",
      "(256, 1283)\n"
     ]
    }
   ],
   "source": [
    "print(emb.sigma.shape)\n",
    "print(emb.data.shape)\n",
    "# print(emb.)"
   ]
  },
  {
   "cell_type": "code",
   "execution_count": 238,
   "metadata": {},
   "outputs": [],
   "source": [
    "def top_k(w, k):\n",
    "    res = agg(w)\n",
    "    res = np.array(nlargest(k, enumerate(res), key=lambda x: x[1])[:k])[:, 0]\n",
    "    return res"
   ]
  },
  {
   "cell_type": "code",
   "execution_count": 239,
   "metadata": {},
   "outputs": [],
   "source": [
    "def backward_hinge(u, v, v_hat, gamma=1):\n",
    "#     print(np.shape(u))\n",
    "#     print(np.shape(v))\n",
    "    loss = gamma - np.dot(u, v) + np.dot(u, v_hat)\n",
    "    if loss > 0:\n",
    "        return (v_hat - v, -u, u)"
   ]
  },
  {
   "cell_type": "code",
   "execution_count": 280,
   "metadata": {},
   "outputs": [],
   "source": [
    "def update(embedding, idx, mask, delta, nu):\n",
    "    p = emb.data[:, idx]\n",
    "#     print(delta.shape)\n",
    "#     print(mask.shape)    \n",
    "    g = emb.sigma[:, idx]\n",
    "    delta = np.dot(np.diag(delta), mask)\n",
    "    emb.sigma[:, idx] += delta**2\n",
    "    emb.data[:, idx] -= delta * nu / (np.sqrt(g) + eps)\n",
    "# def update(emb, g_t, mask, lr=0.001, epsilon=1e-7):\n",
    "#     w, h = emb.data[idx]\n",
    "#     h_new = h + g_t * g_t\n",
    "#     w_new = w - lr * g_t / (np.sqrt(h_new) + epsilon)\n",
    "#     w_new = np.where(mask, w_new, w)\n",
    "#     return w_new, h_new"
   ]
  },
  {
   "cell_type": "code",
   "execution_count": 281,
   "metadata": {},
   "outputs": [],
   "source": [
    "def agg(w, mask=False):\n",
    "#     print(np.shape(w))\n",
    "    res = w.max(axis=1)\n",
    "#     print('res', res.shape)\n",
    "#     print(res)\n",
    "    if mask:\n",
    "        mask_res = w.max(axis=1, keepdims = 1) == w\n",
    "#     print('mask', mask.shape)\n",
    "        return res, mask_res # mask show values to update\n",
    "    return res\n"
   ]
  },
  {
   "cell_type": "code",
   "execution_count": 282,
   "metadata": {},
   "outputs": [],
   "source": [
    "def recall_at_k(emb, data, k = 10):\n",
    "    n_test = len(data)\n",
    "#     print(agg(emb.data[:, data[0][0]]))\n",
    "#     print(np.shape(emb.data))\n",
    "    descr_emb = [agg(emb.data[:, data[i][0]]) for i in range(n_test)]\n",
    "    \n",
    "    recall = []\n",
    "    \n",
    "    for i in range(n_test):\n",
    "        title_emb = agg(emb.data[:, data[i][1]])\n",
    "#         print('top_k', top_k(np.transpose(title_emb) * descr_emb, k))\n",
    "#         print(i, top_k(np.transpose(title_emb) * descr_emb, k), i in top_k(np.transpose(title_emb) * descr_emb, k))\n",
    "        recall.append(i in top_k(np.transpose(title_emb) * descr_emb, k))\n",
    "#     print(recall)\n",
    "    return np.count_nonzero(recall) / n_test"
   ]
  },
  {
   "cell_type": "code",
   "execution_count": 283,
   "metadata": {},
   "outputs": [],
   "source": [
    "def train2(emb: Embedding, idx, nu):\n",
    "#     print(idx[0])\n",
    "#     print(idx)\n",
    "#     print(np.shape(agg(emb.data[:, idx[0]])))\n",
    "    embs, masks = [], []\n",
    "    for ind in idx:\n",
    "        res, mask = agg(emb.data[:, ind], mask=True)\n",
    "        embs.append(res)\n",
    "        masks.append(mask)\n",
    "#     embs, masks = embs[:, 0], embs[:, 1]\n",
    "#     print(np.shape(embs))\n",
    "#     print(np.shape(embs))\n",
    "    delta_s = backward_hinge(*embs)\n",
    "#     print('delta_s', delta_s)\n",
    "#     print(masks)\n",
    "    if delta_s is None:\n",
    "        return None\n",
    "    \n",
    "    for i, delta in zip(range(len(idx)), delta_s):\n",
    "        update(emb, idx[i], masks[i], delta, nu)\n"
   ]
  },
  {
   "cell_type": "code",
   "execution_count": 284,
   "metadata": {},
   "outputs": [],
   "source": [
    "def train1(emb, data, nu):\n",
    "    first = np.random.permutation(len(data))\n",
    "    second = np.roll(first, 1)\n",
    "    for (f, s) in zip(first, second):\n",
    "        u, v = data[f]\n",
    "#         print(u, v)\n",
    "#         print(u, v)\n",
    "#         print(f, s)\n",
    "        if np.random.randint(2):\n",
    "            np.setdiff1d(v, u) \n",
    "        else: \n",
    "            np.setdiff1d(u, v)\n",
    "        train2(emb, (u, v, data[s][1]), nu)"
   ]
  },
  {
   "cell_type": "code",
   "execution_count": 285,
   "metadata": {},
   "outputs": [],
   "source": [
    "def train(emb, train_data, test_data, n_epochs, nu):\n",
    "    for epoch in range(n_epochs):\n",
    "        t = train1(emb, train_data, nu)\n",
    "        recall = recall_at_k(emb, test_data)\n",
    "        print(\"Epoch {} ({}): recall = {}\\n\".format(epoch, t, recall))"
   ]
  },
  {
   "cell_type": "code",
   "execution_count": 286,
   "metadata": {},
   "outputs": [
    {
     "name": "stdout",
     "output_type": "stream",
     "text": [
      "Epoch 0 (None): recall = 0.5588235294117647\n",
      "\n",
      "Epoch 1 (None): recall = 0.5588235294117647\n",
      "\n",
      "Epoch 2 (None): recall = 0.5588235294117647\n",
      "\n",
      "Epoch 3 (None): recall = 0.5588235294117647\n",
      "\n",
      "Epoch 4 (None): recall = 0.5588235294117647\n",
      "\n",
      "Epoch 5 (None): recall = 0.5588235294117647\n",
      "\n",
      "Epoch 6 (None): recall = 0.5588235294117647\n",
      "\n",
      "Epoch 7 (None): recall = 0.5588235294117647\n",
      "\n",
      "Epoch 8 (None): recall = 0.5588235294117647\n",
      "\n",
      "Epoch 9 (None): recall = 0.5588235294117647\n",
      "\n",
      "Epoch 10 (None): recall = 0.5588235294117647\n",
      "\n",
      "Epoch 11 (None): recall = 0.5588235294117647\n",
      "\n",
      "Epoch 12 (None): recall = 0.5588235294117647\n",
      "\n",
      "Epoch 13 (None): recall = 0.5588235294117647\n",
      "\n",
      "Epoch 14 (None): recall = 0.5588235294117647\n",
      "\n",
      "Epoch 15 (None): recall = 0.5588235294117647\n",
      "\n",
      "Epoch 16 (None): recall = 0.5588235294117647\n",
      "\n",
      "Epoch 17 (None): recall = 0.5588235294117647\n",
      "\n",
      "Epoch 18 (None): recall = 0.5588235294117647\n",
      "\n",
      "Epoch 19 (None): recall = 0.5588235294117647\n",
      "\n"
     ]
    }
   ],
   "source": [
    "train(emb, train_data, test_data, 20, 1)"
   ]
  },
  {
   "cell_type": "code",
   "execution_count": null,
   "metadata": {},
   "outputs": [],
   "source": []
  },
  {
   "cell_type": "code",
   "execution_count": null,
   "metadata": {},
   "outputs": [],
   "source": []
  },
  {
   "cell_type": "code",
   "execution_count": null,
   "metadata": {},
   "outputs": [],
   "source": []
  },
  {
   "cell_type": "code",
   "execution_count": null,
   "metadata": {},
   "outputs": [],
   "source": []
  }
 ],
 "metadata": {
  "kernelspec": {
   "display_name": "Python 3",
   "language": "python",
   "name": "python3"
  },
  "language_info": {
   "codemirror_mode": {
    "name": "ipython",
    "version": 3
   },
   "file_extension": ".py",
   "mimetype": "text/x-python",
   "name": "python",
   "nbconvert_exporter": "python",
   "pygments_lexer": "ipython3",
   "version": "3.6.5"
  }
 },
 "nbformat": 4,
 "nbformat_minor": 1
}
